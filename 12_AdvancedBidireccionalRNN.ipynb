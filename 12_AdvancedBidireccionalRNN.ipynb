{
  "cells": [
    {
      "cell_type": "markdown",
      "source": [
        "# 12 Advanced Recurrent Neural Networks\n",
        "\n",
        "Advanced Neural Network architectures represent significant advancements in the field of deep learning, which are most used in the domain of sequence modeling and processing. These architectures build upon the traditional feedforward neural networks and introduce recurrent connections, allowing them to exhibit temporal dynamics and memory capabilities.\n",
        "\n",
        "* The Elman RNN employs a simple recurrent loop in its hidden layer, enabling it to capture short-term temporal dependencies, making it suitable for applications such as speech recognition and time series analysis.\n",
        "* The Jordan RNN possesses feedback connections from the output layer to the hidden layer, rendering it capable of modeling longer-term dependencies, which finds applications in machine translation and language modeling tasks.\n",
        "* The Bidirectional RNN combines both forward and backward temporal processing, allowing it to consider both past and future context in its predictions, making it effective in natural language processing tasks such as sentiment analysis and named entity recognition.\n",
        "\n",
        "These advanced neural network architectures significantly expand the modeling capabilities of traditional neural networks and have become indispensable tools in various sequential data processing applications."
      ],
      "metadata": {
        "collapsed": false,
        "id": "E13Zb9radHVA"
      }
    },
    {
      "cell_type": "markdown",
      "source": [
        "### Exercise\n",
        "Use the IMDB movie reviews dataset to perform sentiment analysis with a Elman, Jordan and Bidirectional RNN.\n",
        "Highlight the differences on the performance of each architecture."
      ],
      "metadata": {
        "collapsed": false,
        "id": "wCTcagmYdHVE"
      }
    },
    {
      "cell_type": "code",
      "source": [
        "from keras.datasets import imdb\n",
        "from keras.preprocessing import sequence\n",
        "from tensorflow.keras.preprocessing.sequence import pad_sequences\n",
        "from keras.models import Sequential\n",
        "from keras.layers import Embedding, SimpleRNN, Dense, Bidirectional\n",
        "from keras.layers import Bidirectional\n"
      ],
      "metadata": {
        "id": "1DBZZGQRe-Js"
      },
      "execution_count": 1,
      "outputs": []
    },
    {
      "cell_type": "markdown",
      "source": [
        "1. Load the IMDB movie reviews dataset"
      ],
      "metadata": {
        "collapsed": false,
        "id": "RxN-XQAzdHVM"
      }
    },
    {
      "cell_type": "code",
      "execution_count": 2,
      "outputs": [
        {
          "output_type": "stream",
          "name": "stdout",
          "text": [
            "Downloading data from https://storage.googleapis.com/tensorflow/tf-keras-datasets/imdb.npz\n",
            "17464789/17464789 [==============================] - 2s 0us/step\n"
          ]
        }
      ],
      "source": [
        "max_features = 5000  # Number of words to consider as features\n",
        "max_len_short = 100  # Maximum sequence length for short sequences\n",
        "max_len_long = 500   # Maximum sequence length for long sequences\n",
        "\n",
        "(x_train, y_train), (x_test, y_test) = imdb.load_data(num_words=max_features)"
      ],
      "metadata": {
        "colab": {
          "base_uri": "https://localhost:8080/"
        },
        "id": "qwwsQZPPdHVN",
        "outputId": "d0d2da07-abbb-426a-915d-cf7ac9759192"
      }
    },
    {
      "cell_type": "markdown",
      "source": [
        "2. Pad sequences to a fixed length for RNN input"
      ],
      "metadata": {
        "collapsed": false,
        "id": "pFbQNbFUdHVR"
      }
    },
    {
      "cell_type": "code",
      "source": [
        "x_train_short = pad_sequences(x_train, maxlen=max_len_short)\n",
        "x_test_short = pad_sequences(x_test, maxlen=max_len_short)\n",
        "\n",
        "x_train_long = pad_sequences(x_train, maxlen=max_len_long)\n",
        "x_test_long = pad_sequences(x_test, maxlen=max_len_long)"
      ],
      "metadata": {
        "id": "IwV1VzeQdm19"
      },
      "execution_count": 3,
      "outputs": []
    },
    {
      "cell_type": "markdown",
      "source": [
        "3. Build the distinct RNN models"
      ],
      "metadata": {
        "collapsed": false,
        "id": "qsk_ppj7dHVU"
      }
    },
    {
      "cell_type": "code",
      "source": [
        "def build_bidirectional_rnn_model():\n",
        "    model = Sequential()\n",
        "    model.add(Embedding(max_features, 32))\n",
        "    model.add(Bidirectional(SimpleRNN(32, activation='relu')))\n",
        "    model.add(Dense(1, activation='sigmoid'))\n",
        "    return model"
      ],
      "metadata": {
        "id": "rPvfCxKydrAx"
      },
      "execution_count": 4,
      "outputs": []
    },
    {
      "cell_type": "markdown",
      "source": [
        "4. Train and evaluate the RNN model"
      ],
      "metadata": {
        "collapsed": false,
        "id": "UryU_uFidHVX"
      }
    },
    {
      "cell_type": "code",
      "execution_count": 5,
      "outputs": [],
      "source": [
        "def train_and_evaluate_model(model, x_train, y_train, x_test, y_test):\n",
        "    model.compile(optimizer='adam', loss='binary_crossentropy', metrics=['accuracy'])\n",
        "    history = model.fit(x_train, y_train, epochs=5, batch_size=128, validation_split=0.2)\n",
        "    loss, accuracy = model.evaluate(x_test, y_test)\n",
        "    return loss, accuracy, history"
      ],
      "metadata": {
        "id": "8OKRPF-CdHVX"
      }
    },
    {
      "cell_type": "markdown",
      "source": [
        "5. Train and evaluate the RNN model on short sequences"
      ],
      "metadata": {
        "collapsed": false,
        "id": "6YrMsvpodHVa"
      }
    },
    {
      "cell_type": "code",
      "execution_count": 7,
      "outputs": [
        {
          "output_type": "stream",
          "name": "stdout",
          "text": [
            "\n",
            "Training Bidirectional RNN model on short sequences:\n",
            "Epoch 1/5\n",
            "157/157 [==============================] - 55s 303ms/step - loss: 0.5818 - accuracy: 0.6767 - val_loss: 0.3887 - val_accuracy: 0.8186\n",
            "Epoch 2/5\n",
            "157/157 [==============================] - 36s 231ms/step - loss: 0.3317 - accuracy: 0.8587 - val_loss: 0.3429 - val_accuracy: 0.8432\n",
            "Epoch 3/5\n",
            "157/157 [==============================] - 31s 199ms/step - loss: 0.2689 - accuracy: 0.8906 - val_loss: 0.3699 - val_accuracy: 0.8454\n",
            "Epoch 4/5\n",
            "157/157 [==============================] - 35s 221ms/step - loss: 0.2402 - accuracy: 0.9046 - val_loss: 0.3481 - val_accuracy: 0.8444\n",
            "Epoch 5/5\n",
            "157/157 [==============================] - 32s 202ms/step - loss: 0.2029 - accuracy: 0.9219 - val_loss: 0.4585 - val_accuracy: 0.8262\n",
            "782/782 [==============================] - 14s 18ms/step - loss: 0.4629 - accuracy: 0.8260\n"
          ]
        }
      ],
      "source": [
        "print(\"\\nTraining Bidirectional RNN model on short sequences:\")\n",
        "bidirectional_rnn_model_short = build_bidirectional_rnn_model()\n",
        "loss_short, accuracy_short, history_short = train_and_evaluate_model(\n",
        "    bidirectional_rnn_model_short, x_train_short, y_train, x_test_short, y_test)\n"
      ],
      "metadata": {
        "colab": {
          "base_uri": "https://localhost:8080/"
        },
        "id": "JcjpeCobdHVb",
        "outputId": "cf6c7b64-89f3-448e-ef4e-ff0918b6a130"
      }
    },
    {
      "cell_type": "markdown",
      "source": [
        "6. Train and evaluate the RNN model on long sequences"
      ],
      "metadata": {
        "collapsed": false,
        "id": "vtk_i5l-dHVc"
      }
    },
    {
      "cell_type": "code",
      "execution_count": 8,
      "outputs": [
        {
          "output_type": "stream",
          "name": "stdout",
          "text": [
            "\n",
            "Training Bidirectional RNN model on short sequences:\n",
            "Epoch 1/5\n",
            "157/157 [==============================] - 45s 262ms/step - loss: 0.5680 - accuracy: 0.6834 - val_loss: 0.4309 - val_accuracy: 0.8166\n",
            "Epoch 2/5\n",
            "157/157 [==============================] - 35s 224ms/step - loss: 0.3441 - accuracy: 0.8559 - val_loss: 0.3716 - val_accuracy: 0.8272\n",
            "Epoch 3/5\n",
            "157/157 [==============================] - 32s 203ms/step - loss: 0.2728 - accuracy: 0.8898 - val_loss: 0.3767 - val_accuracy: 0.8274\n",
            "Epoch 4/5\n",
            "157/157 [==============================] - 31s 198ms/step - loss: 0.2316 - accuracy: 0.9076 - val_loss: 0.3619 - val_accuracy: 0.8412\n",
            "Epoch 5/5\n",
            "157/157 [==============================] - 30s 194ms/step - loss: 0.1939 - accuracy: 0.9248 - val_loss: 0.4269 - val_accuracy: 0.8314\n",
            "782/782 [==============================] - 14s 18ms/step - loss: 0.4346 - accuracy: 0.8282\n"
          ]
        }
      ],
      "source": [
        "print(\"\\nTraining Bidirectional RNN model on short sequences:\")\n",
        "bidirectional_rnn_model_short = build_bidirectional_rnn_model()\n",
        "loss_short, accuracy_short, history_short = train_and_evaluate_model(\n",
        "    bidirectional_rnn_model_short, x_train_short, y_train, x_test_short, y_test)\n",
        "\n"
      ],
      "metadata": {
        "colab": {
          "base_uri": "https://localhost:8080/"
        },
        "id": "uyirnJybdHVd",
        "outputId": "4ff2e286-cf9d-4798-9e51-0d5fbd9d5818"
      }
    },
    {
      "cell_type": "markdown",
      "source": [
        "7. Compare the results"
      ],
      "metadata": {
        "collapsed": false,
        "id": "Lu38Rhe3dHVf"
      }
    },
    {
      "cell_type": "code",
      "execution_count": 10,
      "outputs": [
        {
          "output_type": "stream",
          "name": "stdout",
          "text": [
            "\n",
            "Results on Short Sequences:\n",
            "Loss: 0.4346, Accuracy: 0.8282\n"
          ]
        }
      ],
      "source": [
        "print(\"\\nResults on Short Sequences:\")\n",
        "print(f\"Loss: {loss_short:.4f}, Accuracy: {accuracy_short:.4f}\")\n"
      ],
      "metadata": {
        "colab": {
          "base_uri": "https://localhost:8080/"
        },
        "id": "eE_7gI85dHVj",
        "outputId": "0cb17d62-9191-40fd-af4a-10522067ae86"
      }
    }
  ],
  "metadata": {
    "kernelspec": {
      "display_name": "Python 3",
      "name": "python3"
    },
    "language_info": {
      "codemirror_mode": {
        "name": "ipython",
        "version": 2
      },
      "file_extension": ".py",
      "mimetype": "text/x-python",
      "name": "python",
      "nbconvert_exporter": "python",
      "pygments_lexer": "ipython2",
      "version": "2.7.6"
    },
    "colab": {
      "provenance": [],
      "gpuType": "T4"
    },
    "accelerator": "GPU"
  },
  "nbformat": 4,
  "nbformat_minor": 0
}